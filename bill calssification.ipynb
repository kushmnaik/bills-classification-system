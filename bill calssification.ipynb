{
 "cells": [
  {
   "cell_type": "markdown",
   "metadata": {},
   "source": [
    "# 18bce129 ( naik kush )\n",
    "# div B\n",
    "# sem 4"
   ]
  },
  {
   "cell_type": "markdown",
   "metadata": {},
   "source": [
    "## dependencies\n",
    "### tessract engine\n",
    "### pandas\n",
    "### nltk\n",
    "### sklearn\n",
    "### openCV\n"
   ]
  },
  {
   "cell_type": "markdown",
   "metadata": {},
   "source": [
    "# Q1\n",
    "## in the following code we will prepare our dataset\n",
    "### tesseract is used for extracting text from image\n",
    "### here , i have used nltk for removing stopowrds, lematization etc"
   ]
  },
  {
   "cell_type": "code",
   "execution_count": 100,
   "metadata": {},
   "outputs": [
    {
     "data": {
      "text/html": [
       "<div>\n",
       "<style scoped>\n",
       "    .dataframe tbody tr th:only-of-type {\n",
       "        vertical-align: middle;\n",
       "    }\n",
       "\n",
       "    .dataframe tbody tr th {\n",
       "        vertical-align: top;\n",
       "    }\n",
       "\n",
       "    .dataframe thead th {\n",
       "        text-align: right;\n",
       "    }\n",
       "</style>\n",
       "<table border=\"1\" class=\"dataframe\">\n",
       "  <thead>\n",
       "    <tr style=\"text-align: right;\">\n",
       "      <th></th>\n",
       "      <th>text</th>\n",
       "      <th>category</th>\n",
       "    </tr>\n",
       "  </thead>\n",
       "  <tbody>\n",
       "    <tr>\n",
       "      <td>0</td>\n",
       "      <td>CHLOE81 81 Ludlow St New York , NY 10002 Tel 2...</td>\n",
       "      <td>entertainment</td>\n",
       "    </tr>\n",
       "    <tr>\n",
       "      <td>1</td>\n",
       "      <td>eee eet MITASU JAPANESE RESTAURANT SDN BHD B-0...</td>\n",
       "      <td>entertainment</td>\n",
       "    </tr>\n",
       "    <tr>\n",
       "      <td>2</td>\n",
       "      <td>eee eet MITASU JAPANESE RESTAURANT SDN BHD B-0...</td>\n",
       "      <td>entertainment</td>\n",
       "    </tr>\n",
       "    <tr>\n",
       "      <td>3</td>\n",
       "      <td>Collector ’ Chojce Restaurant 2\\ ) Cypress Ave...</td>\n",
       "      <td>entertainment</td>\n",
       "    </tr>\n",
       "    <tr>\n",
       "      <td>4</td>\n",
       "      <td>“ Bea BOWL TERI YAK I O GARFIELD AVE. ee GATE ...</td>\n",
       "      <td>entertainment</td>\n",
       "    </tr>\n",
       "    <tr>\n",
       "      <td>...</td>\n",
       "      <td>...</td>\n",
       "      <td>...</td>\n",
       "    </tr>\n",
       "    <tr>\n",
       "      <td>95</td>\n",
       "      <td>This negotiable document © S B | STATE BANK OF...</td>\n",
       "      <td>investment</td>\n",
       "    </tr>\n",
       "    <tr>\n",
       "      <td>96</td>\n",
       "      <td>e-TDR/e-STDR ( Fixed Deposit ) Open new A/c Ma...</td>\n",
       "      <td>investment</td>\n",
       "    </tr>\n",
       "    <tr>\n",
       "      <td>97</td>\n",
       "      <td>e-TDR/e-STDR ( Fixed Deposit ) Open new A/c Ma...</td>\n",
       "      <td>investment</td>\n",
       "    </tr>\n",
       "    <tr>\n",
       "      <td>98</td>\n",
       "      <td>e-TDR/e-STDR ( Fixed Deposit ) Open new A/c Ma...</td>\n",
       "      <td>investment</td>\n",
       "    </tr>\n",
       "    <tr>\n",
       "      <td>99</td>\n",
       "      <td>Q Your Fixed Deposit create successfully ! Ref...</td>\n",
       "      <td>investment</td>\n",
       "    </tr>\n",
       "  </tbody>\n",
       "</table>\n",
       "<p>100 rows × 2 columns</p>\n",
       "</div>"
      ],
      "text/plain": [
       "                                                 text       category\n",
       "0   CHLOE81 81 Ludlow St New York , NY 10002 Tel 2...  entertainment\n",
       "1   eee eet MITASU JAPANESE RESTAURANT SDN BHD B-0...  entertainment\n",
       "2   eee eet MITASU JAPANESE RESTAURANT SDN BHD B-0...  entertainment\n",
       "3   Collector ’ Chojce Restaurant 2\\ ) Cypress Ave...  entertainment\n",
       "4   “ Bea BOWL TERI YAK I O GARFIELD AVE. ee GATE ...  entertainment\n",
       "..                                                ...            ...\n",
       "95  This negotiable document © S B | STATE BANK OF...     investment\n",
       "96  e-TDR/e-STDR ( Fixed Deposit ) Open new A/c Ma...     investment\n",
       "97  e-TDR/e-STDR ( Fixed Deposit ) Open new A/c Ma...     investment\n",
       "98  e-TDR/e-STDR ( Fixed Deposit ) Open new A/c Ma...     investment\n",
       "99  Q Your Fixed Deposit create successfully ! Ref...     investment\n",
       "\n",
       "[100 rows x 2 columns]"
      ]
     },
     "execution_count": 100,
     "metadata": {},
     "output_type": "execute_result"
    }
   ],
   "source": [
    "import os\n",
    "import pandas as pd\n",
    "import pytesseract\n",
    "import matplotlib.pyplot as plt\n",
    "import pandas as pd\n",
    "import cv2\n",
    "import nltk\n",
    "from nltk.tokenize import word_tokenize\n",
    "from nltk.corpus import stopwords\n",
    "from nltk.stem.wordnet import WordNetLemmatizer\n",
    "\n",
    "lem = WordNetLemmatizer()\n",
    "valid_image_extensions = [\"jpg\", \"jpeg\"]\n",
    "temp =[]\n",
    "category = ['entertainment','trasportation','shopping','miscellaneous','homeUtility','grocery','investment']\n",
    "stop_words=set(stopwords.words(\"english\"))\n",
    "\n",
    "\n",
    "# go category by category\n",
    "for j in category:\n",
    "    \n",
    "    # load all image files with permited extentions\n",
    "    for i in os.listdir(j+'/'):\n",
    "\n",
    "        # read img and scaling it for better extrsction of data\n",
    "        if i.split('.')[1] in valid_image_extensions:\n",
    "            img = cv2.imread(j+'/'+i,1)\n",
    "            img = cv2.resize(img, None, fx=2, fy=2, interpolation=cv2.INTER_CUBIC)\n",
    "            result = pytesseract.image_to_string(img)\n",
    "            \n",
    "         \n",
    "        if result:\n",
    "            result = str(result)\n",
    "            \n",
    "            # tokenizing words\n",
    "            tokenized_word = word_tokenize(result)\n",
    "\n",
    "            # removing stop words\n",
    "            filtered_sent=[]\n",
    "            for w in tokenized_word:\n",
    "                if w not in stop_words:\n",
    "                    filtered_sent.append(w)\n",
    "\n",
    "            # lematizing each word\n",
    "            stemmed_words=[]\n",
    "            for w in filtered_sent:\n",
    "                stemmed_words.append(lem.lemmatize(w,\"v\"))\n",
    "\n",
    "        # join all word again after preprocessing\n",
    "        result = ' '.join(stemmed_words)  \n",
    "        temp.append([result,j])\n",
    "\n",
    "# dump all data preprocessed into a pandas dataFrame\n",
    "df = pd.DataFrame(temp,columns = ['text','category'])\n",
    "df"
   ]
  },
  {
   "cell_type": "markdown",
   "metadata": {},
   "source": [
    "# Q1 preparing ml model for categorization of bills"
   ]
  },
  {
   "cell_type": "code",
   "execution_count": 46,
   "metadata": {},
   "outputs": [
    {
     "name": "stdout",
     "output_type": "stream",
     "text": [
      "accuracy of model :  0.9411764705882353\n"
     ]
    },
    {
     "data": {
      "text/plain": [
       "['model.pkl']"
      ]
     },
     "execution_count": 46,
     "metadata": {},
     "output_type": "execute_result"
    }
   ],
   "source": [
    "import pickle\n",
    "from sklearn.pipeline import Pipeline\n",
    "from sklearn.feature_extraction.text import CountVectorizer\n",
    "from sklearn.feature_extraction.text import TfidfTransformer\n",
    "from sklearn.naive_bayes import MultinomialNB\n",
    "from sklearn.model_selection import train_test_split\n",
    "\n",
    "# creating pipeline for our model\n",
    "text_clf = Pipeline([('vect', CountVectorizer()), ('tfidf', TfidfTransformer()), ('clf', MultinomialNB())])\n",
    "\n",
    "# fit our dataframe into the model : text as feature \n",
    "text_clf.fit(df['text'],df['category'])\n",
    "\n",
    "#dividing test and train dataset\n",
    "training_set, validation_set = train_test_split(df, test_size = 0.2, random_state = 226)\n",
    "\n",
    "\n",
    "ans = text_clf.predict(validation_set['text'])\n",
    "\n",
    "\n",
    "#confusion matrix\n",
    "from sklearn.metrics import confusion_matrix\n",
    "cm = confusion_matrix(ans, validation_set['category'])\n",
    "\n",
    "#give accuracy \n",
    "def accuracy(confusion_matrix):\n",
    "    diagonal_sum = confusion_matrix.trace()\n",
    "    sum_of_all_elements = confusion_matrix.sum()\n",
    "    return diagonal_sum / sum_of_all_elements\n",
    "\n",
    "\n",
    "print(\"accuracy of model : \",accuracy(cm))\n",
    "\n",
    "\n",
    "# Saving model for future use\n",
    "from sklearn.externals import joblib \n",
    "joblib.dump(text_clf,'model.pkl')"
   ]
  },
  {
   "cell_type": "markdown",
   "metadata": {},
   "source": [
    "# Q1 , Q2\n",
    "## here you need to give directory name where bills are and below code snippet will find its category, total price, dateOfBilling etc... and save it to respective category's csv files"
   ]
  },
  {
   "cell_type": "code",
   "execution_count": 82,
   "metadata": {},
   "outputs": [
    {
     "name": "stdout",
     "output_type": "stream",
     "text": [
      "Enter the path of directory having bills : \n",
      "sample\n"
     ]
    }
   ],
   "source": [
    "from sklearn.externals import joblib \n",
    "import csv\n",
    "import os\n",
    "import re\n",
    "import nltk\n",
    "from nltk.tokenize import word_tokenize\n",
    "from nltk.corpus import stopwords\n",
    "from nltk.stem.wordnet import WordNetLemmatizer\n",
    "stop_words=set(stopwords.words(\"english\"))\n",
    "lem = WordNetLemmatizer()\n",
    "\n",
    "\n",
    "# function to extract price from reciept text\n",
    "# here , i am finding key words such as total,amount,rate from text and getting price next to it\n",
    "def get_price(result):\n",
    "    total = 0\n",
    "    flag = 0\n",
    "    for i in str(result).split('\\n'):\n",
    "        flag=0\n",
    "        i=i.lower()\n",
    "        if (\"total\" in i or 'amount' in i or 'ammt' in i or 'rate' in i)and \"subtotal\" not in i:\n",
    "            flag=1\n",
    "        for j in i.split(' '):\n",
    "            j=j.strip()\n",
    "            f=0\n",
    "            for k in j.split('.'):\n",
    "                k=k.strip()\n",
    "                if len(k)>1 and not(k[0].isdigit()):\n",
    "                    k=k[1:]\n",
    "                if(',' in k):\n",
    "                    k=''.join(k.split(','))\n",
    "\n",
    "                if(k.strip().isdigit() and len(k)<=6 and flag and k[0]!='0'):\n",
    "                        total = max(total,int(k))\n",
    "                        f=1\n",
    "                        break\n",
    "            if f:\n",
    "                break\n",
    "    if total != 0:\n",
    "        return total\n",
    "\n",
    "\n",
    "#to get date i have used regex which find following kind of dates\n",
    "# dd-mm-yyyy\n",
    "# dd/mm/yyyy\n",
    "# dd mm yyyy\n",
    "# dd mm yy\n",
    "# dd-mm-yy\n",
    "# dd/mm/yy\n",
    "# dd-mon-yyyy\n",
    "# dd/mon/yyyy\n",
    "# dd mon yyyy\n",
    "def get_date(result):\n",
    "    l= re.findall(\"[0-9]{2}[\\s/-][0-9]{2}[\\s/-][0-9]{2,5}\",result)\n",
    "    if len(l)>0:\n",
    "        return l[0]\n",
    "    l= re.findall(\"[0-9]{2}[\\s/-][a-zA-Z]{3}[\\s/-][0-9]{2,5}\",result)\n",
    "    if len(l)>0:\n",
    "        return l[0]\n",
    "    \n",
    "    \n",
    "# here i asuming that billing firm name should be in the first line in reciept\n",
    "def get_company_name(result):\n",
    "    return result.split('\\n')[0]\n",
    "\n",
    "#getting tax information if any by regex and finding % in reciept\n",
    "def get_tax(result):\n",
    "    ans=0\n",
    "    l = re.findall('[\\.0-9]+[\\s]?[%]',result)\n",
    "    \n",
    "    #extracting rate from all regex\n",
    "    for i in l:\n",
    "        if len(i)>1 and( i[1].isdigit() or i[1]=='.') :\n",
    "            ans+=float(i.strip()[0:2].strip())\n",
    "        else:\n",
    "            ans+=float(i.strip()[0:1].strip())\n",
    "    return ans\n",
    "\n",
    "valid_image_extensions = [\"jpg\", \"jpeg\" ,\"png\"]\n",
    "print(\"Enter the path of directory having bills : \")\n",
    "j = input()\n",
    "\n",
    "#loading all files from given directory with valid_image_extentions\n",
    "for i in os.listdir(j+'/'):\n",
    "\n",
    "        # read img and scaling it and also making gray scale for better extrsction of data\n",
    "        if i.split('.')[1] in valid_image_extensions:\n",
    "            img = cv2.imread(j+'/'+i,1)\n",
    "            img = cv2.resize(img, None, fx=2, fy=2, interpolation=cv2.INTER_CUBIC)\n",
    "            result = pytesseract.image_to_string(img)\n",
    "        \n",
    "        if result:\n",
    "            result = str(result)\n",
    "            \n",
    "            #   getting attributes\n",
    "            price = get_price(result)\n",
    "            date = get_date(result)\n",
    "            name = get_company_name(result)\n",
    "            tax = get_tax(result)\n",
    "            #tokenizing words\n",
    "            tokenized_word = word_tokenize(result)\n",
    "\n",
    "            # remove stop words\n",
    "            filtered_sent=[]\n",
    "            for w in tokenized_word:\n",
    "                if w not in stop_words:\n",
    "                    filtered_sent.append(w)\n",
    "            # getting lematized text\n",
    "            stemmed_words=[]\n",
    "            for w in filtered_sent:\n",
    "                stemmed_words.append(lem.lemmatize(w,\"v\"))\n",
    "                \n",
    "            # loading model and predict the type of bill\n",
    "            model = joblib.load('model.pkl')\n",
    "            category = model.predict([' '.join(stemmed_words)])\n",
    "            \n",
    "            #writing csv file \n",
    "            with open(category[0]+'.csv','a') as csvfile:\n",
    "                csvwriter = csv.writer(csvfile)  \n",
    "                csvwriter.writerow([name,date,tax,price,category[0]])"
   ]
  },
  {
   "cell_type": "markdown",
   "metadata": {},
   "source": [
    "# Q3 ploting bar chart and pie chart "
   ]
  },
  {
   "cell_type": "code",
   "execution_count": 98,
   "metadata": {},
   "outputs": [
    {
     "data": {
      "image/png": "[encoded data removed]",
      "text/plain": [
       "<Figure size 432x288 with 1 Axes>"
      ]
     },
     "metadata": {},
     "output_type": "display_data"
    },
    {
     "data": {
      "image/png": "[encoded data removed]",
      "text/plain": [
       "<Figure size 432x288 with 1 Axes>"
      ]
     },
     "metadata": {
      "needs_background": "light"
     },
     "output_type": "display_data"
    }
   ],
   "source": [
    "import pandas as pd\n",
    "from matplotlib import pyplot as plt\n",
    "category = ['entertainment','trasportation','shopping','miscellaneous','homeUtility','grocery','investment']\n",
    "df = pd.DataFrame(columns = ['name','billDate','tax','price','category'])\n",
    "c=0\n",
    "\n",
    "# Combning all scv files into one dataframe\n",
    "for i in category:\n",
    "    temp = pd.read_csv(i+'.csv',parse_dates = ['billDate'])\n",
    "    temp['price'].interpolate()\n",
    "#     print(temp)\n",
    "    for j in range(len(temp)):\n",
    "        df.loc[c]=temp.loc[j]\n",
    "        c+=1\n",
    "        \n",
    "# group by to get categories data categorywise\n",
    "g=df.groupby(['category'])\n",
    "category = []\n",
    "expence = []\n",
    "# getting expence of each category\n",
    "c=0\n",
    "for i,j in g:\n",
    "    category.append(i)\n",
    "    expence.append(j.price.sum())\n",
    "\n",
    "explode = [0,0,0,0,0,0,0]\n",
    "explode[3]+=.1\n",
    "# plotting pie char according to data \n",
    "patches,texts = plt.pie(expence,explode)\n",
    "plt.axis('equal')\n",
    "plt.legend(patches,category,loc='best')\n",
    "plt.tight_layout()\n",
    "plt.show()\n",
    "\n",
    "# also showing bar plot for better understading\n",
    "plt.bar(category,expence)\n",
    "plt.xticks(rotation=45)\n",
    "plt.show()"
   ]
  },
  {
   "cell_type": "markdown",
   "metadata": {},
   "source": [
    "# Q3,Q4 following codes give overview of users expences and gives relative suggetions"
   ]
  },
  {
   "cell_type": "code",
   "execution_count": 84,
   "metadata": {},
   "outputs": [
    {
     "name": "stdout",
     "output_type": "stream",
     "text": [
      "you have following expences in follwing catregories :-\n"
     ]
    },
    {
     "data": {
      "text/html": [
       "<div>\n",
       "<style scoped>\n",
       "    .dataframe tbody tr th:only-of-type {\n",
       "        vertical-align: middle;\n",
       "    }\n",
       "\n",
       "    .dataframe tbody tr th {\n",
       "        vertical-align: top;\n",
       "    }\n",
       "\n",
       "    .dataframe thead th {\n",
       "        text-align: right;\n",
       "    }\n",
       "</style>\n",
       "<table border=\"1\" class=\"dataframe\">\n",
       "  <thead>\n",
       "    <tr style=\"text-align: right;\">\n",
       "      <th></th>\n",
       "      <th>price</th>\n",
       "    </tr>\n",
       "    <tr>\n",
       "      <th>category</th>\n",
       "      <th></th>\n",
       "    </tr>\n",
       "  </thead>\n",
       "  <tbody>\n",
       "    <tr>\n",
       "      <td>investment</td>\n",
       "      <td>50000.0</td>\n",
       "    </tr>\n",
       "    <tr>\n",
       "      <td>miscellaneous</td>\n",
       "      <td>13098.0</td>\n",
       "    </tr>\n",
       "    <tr>\n",
       "      <td>entertainment</td>\n",
       "      <td>8162.0</td>\n",
       "    </tr>\n",
       "    <tr>\n",
       "      <td>shopping</td>\n",
       "      <td>4504.0</td>\n",
       "    </tr>\n",
       "    <tr>\n",
       "      <td>trasportation</td>\n",
       "      <td>592.0</td>\n",
       "    </tr>\n",
       "    <tr>\n",
       "      <td>grocery</td>\n",
       "      <td>468.0</td>\n",
       "    </tr>\n",
       "    <tr>\n",
       "      <td>homeUtility</td>\n",
       "      <td>460.0</td>\n",
       "    </tr>\n",
       "  </tbody>\n",
       "</table>\n",
       "</div>"
      ],
      "text/plain": [
       "                 price\n",
       "category              \n",
       "investment     50000.0\n",
       "miscellaneous  13098.0\n",
       "entertainment   8162.0\n",
       "shopping        4504.0\n",
       "trasportation    592.0\n",
       "grocery          468.0\n",
       "homeUtility      460.0"
      ]
     },
     "execution_count": 84,
     "metadata": {},
     "output_type": "execute_result"
    }
   ],
   "source": [
    "print(\"you have following expences in follwing catregories :-\")\n",
    "df[['category','price']].groupby(['category']).sum().sort_values(by=['price'],ascending=False)"
   ]
  },
  {
   "cell_type": "markdown",
   "metadata": {},
   "source": [
    "# high expence categories"
   ]
  },
  {
   "cell_type": "code",
   "execution_count": 85,
   "metadata": {},
   "outputs": [
    {
     "name": "stdout",
     "output_type": "stream",
     "text": [
      ">>> you should reduce your expence in following category :-\n"
     ]
    },
    {
     "data": {
      "text/html": [
       "<div>\n",
       "<style scoped>\n",
       "    .dataframe tbody tr th:only-of-type {\n",
       "        vertical-align: middle;\n",
       "    }\n",
       "\n",
       "    .dataframe tbody tr th {\n",
       "        vertical-align: top;\n",
       "    }\n",
       "\n",
       "    .dataframe thead th {\n",
       "        text-align: right;\n",
       "    }\n",
       "</style>\n",
       "<table border=\"1\" class=\"dataframe\">\n",
       "  <thead>\n",
       "    <tr style=\"text-align: right;\">\n",
       "      <th></th>\n",
       "      <th>price</th>\n",
       "    </tr>\n",
       "    <tr>\n",
       "      <th>category</th>\n",
       "      <th></th>\n",
       "    </tr>\n",
       "  </thead>\n",
       "  <tbody>\n",
       "    <tr>\n",
       "      <td>investment</td>\n",
       "      <td>50000.0</td>\n",
       "    </tr>\n",
       "    <tr>\n",
       "      <td>miscellaneous</td>\n",
       "      <td>13098.0</td>\n",
       "    </tr>\n",
       "  </tbody>\n",
       "</table>\n",
       "</div>"
      ],
      "text/plain": [
       "                 price\n",
       "category              \n",
       "investment     50000.0\n",
       "miscellaneous  13098.0"
      ]
     },
     "execution_count": 85,
     "metadata": {},
     "output_type": "execute_result"
    }
   ],
   "source": [
    "print(\">>> you should reduce your expence in following category :-\")\n",
    "df[['category','price']].groupby(['category']).sum().sort_values(by=['price'],ascending=False).head(2)"
   ]
  },
  {
   "cell_type": "markdown",
   "metadata": {},
   "source": [
    "# low expence categories"
   ]
  },
  {
   "cell_type": "code",
   "execution_count": 86,
   "metadata": {},
   "outputs": [
    {
     "name": "stdout",
     "output_type": "stream",
     "text": [
      ">>> you may spend more in following category :-\n"
     ]
    },
    {
     "data": {
      "text/html": [
       "<div>\n",
       "<style scoped>\n",
       "    .dataframe tbody tr th:only-of-type {\n",
       "        vertical-align: middle;\n",
       "    }\n",
       "\n",
       "    .dataframe tbody tr th {\n",
       "        vertical-align: top;\n",
       "    }\n",
       "\n",
       "    .dataframe thead th {\n",
       "        text-align: right;\n",
       "    }\n",
       "</style>\n",
       "<table border=\"1\" class=\"dataframe\">\n",
       "  <thead>\n",
       "    <tr style=\"text-align: right;\">\n",
       "      <th></th>\n",
       "      <th>price</th>\n",
       "    </tr>\n",
       "    <tr>\n",
       "      <th>category</th>\n",
       "      <th></th>\n",
       "    </tr>\n",
       "  </thead>\n",
       "  <tbody>\n",
       "    <tr>\n",
       "      <td>homeUtility</td>\n",
       "      <td>460.0</td>\n",
       "    </tr>\n",
       "    <tr>\n",
       "      <td>grocery</td>\n",
       "      <td>468.0</td>\n",
       "    </tr>\n",
       "  </tbody>\n",
       "</table>\n",
       "</div>"
      ],
      "text/plain": [
       "             price\n",
       "category          \n",
       "homeUtility  460.0\n",
       "grocery      468.0"
      ]
     },
     "execution_count": 86,
     "metadata": {},
     "output_type": "execute_result"
    }
   ],
   "source": [
    "print(\">>> you may spend more in following category :-\")\n",
    "df[['category','price']].groupby(['category']).sum().sort_values(by=['price']).head(2)"
   ]
  },
  {
   "cell_type": "markdown",
   "metadata": {},
   "source": [
    "# mean expence"
   ]
  },
  {
   "cell_type": "code",
   "execution_count": 87,
   "metadata": {},
   "outputs": [
    {
     "name": "stdout",
     "output_type": "stream",
     "text": [
      "your mean expence on each category is : \n"
     ]
    },
    {
     "data": {
      "text/plain": [
       "price    11040.571429\n",
       "dtype: float64"
      ]
     },
     "execution_count": 87,
     "metadata": {},
     "output_type": "execute_result"
    }
   ],
   "source": [
    "print(\"your mean expence on each category is : \")\n",
    "df[['category','price']].groupby(['category']).sum().mean()"
   ]
  },
  {
   "cell_type": "markdown",
   "metadata": {},
   "source": [
    "# TOTAL expence "
   ]
  },
  {
   "cell_type": "code",
   "execution_count": 89,
   "metadata": {},
   "outputs": [
    {
     "name": "stdout",
     "output_type": "stream",
     "text": [
      "your total expence till now is :\n"
     ]
    },
    {
     "data": {
      "text/plain": [
       "price    77284.0\n",
       "dtype: float64"
      ]
     },
     "execution_count": 89,
     "metadata": {},
     "output_type": "execute_result"
    }
   ],
   "source": [
    "print(\"your total expence till now is :\")\n",
    "df[['category','price']].groupby(['category']).sum().sum()"
   ]
  }
 ],
 "metadata": {
  "kernelspec": {
   "display_name": "Python 3",
   "language": "python",
   "name": "python3"
  },
  "language_info": {
   "codemirror_mode": {
    "name": "ipython",
    "version": 3
   },
   "file_extension": ".py",
   "mimetype": "text/x-python",
   "name": "python",
   "nbconvert_exporter": "python",
   "pygments_lexer": "ipython3",
   "version": "3.7.4"
  }
 },
 "nbformat": 4,
 "nbformat_minor": 2
}
